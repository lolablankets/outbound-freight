{
 "cells": [
  {
   "cell_type": "code",
   "execution_count": 3,
   "id": "5b28b8d1",
   "metadata": {},
   "outputs": [],
   "source": [
    "import pandas as pd\n",
    "import polars as pl"
   ]
  },
  {
   "cell_type": "code",
   "execution_count": 2,
   "id": "0dcd09ef",
   "metadata": {},
   "outputs": [],
   "source": [
    "data_path = \"data/2025/08\"\n",
    "fedex_header_offset = 3\n",
    "ups_header_offset = 1"
   ]
  },
  {
   "cell_type": "code",
   "execution_count": null,
   "id": "7f1714f3",
   "metadata": {},
   "outputs": [],
   "source": [
    "def backup_processing_files():\n",
    "    pass"
   ]
  },
  {
   "cell_type": "code",
   "execution_count": null,
   "id": "a5a896d7",
   "metadata": {},
   "outputs": [],
   "source": [
    "def determine_file_vendor():\n",
    "    pass\n",
    "\n",
    "def read_file_into_memory():\n",
    "    pass\n",
    "\n",
    "def merge_same_vendor_files():\n",
    "    pass"
   ]
  },
  {
   "cell_type": "code",
   "execution_count": null,
   "id": "f8491466",
   "metadata": {},
   "outputs": [],
   "source": [
    "def convert_dollar_to_float():\n",
    "    pass\n",
    "\n",
    "def convert_string_to_date():\n",
    "    pass"
   ]
  },
  {
   "cell_type": "code",
   "execution_count": null,
   "id": "a2a0f203",
   "metadata": {},
   "outputs": [],
   "source": [
    "def map_vendor_columns_to_shared_schema():\n",
    "    pass\n",
    "\n",
    "def combine_vendor_files():\n",
    "    pass"
   ]
  }
 ],
 "metadata": {
  "kernelspec": {
   "display_name": "outbound-freight",
   "language": "python",
   "name": "python3"
  },
  "language_info": {
   "codemirror_mode": {
    "name": "ipython",
    "version": 3
   },
   "file_extension": ".py",
   "mimetype": "text/x-python",
   "name": "python",
   "nbconvert_exporter": "python",
   "pygments_lexer": "ipython3",
   "version": "3.13.6"
  }
 },
 "nbformat": 4,
 "nbformat_minor": 5
}
